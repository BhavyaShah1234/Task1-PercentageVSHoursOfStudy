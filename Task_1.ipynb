{
  "nbformat": 4,
  "nbformat_minor": 0,
  "metadata": {
    "colab": {
      "name": "Task 1.ipynb",
      "provenance": [],
      "collapsed_sections": []
    },
    "kernelspec": {
      "name": "python3",
      "display_name": "Python 3"
    },
    "language_info": {
      "name": "python"
    }
  },
  "cells": [
    {
      "cell_type": "code",
      "metadata": {
        "id": "ZmANNUc3R5sB"
      },
      "source": [
        "import pandas as pd\n",
        "import numpy as np\n",
        "import matplotlib.pyplot as plt"
      ],
      "execution_count": 1,
      "outputs": []
    },
    {
      "cell_type": "code",
      "metadata": {
        "colab": {
          "base_uri": "https://localhost:8080/",
          "height": 204
        },
        "id": "MmePpW-_UVR7",
        "outputId": "c7a44084-d226-4694-9eec-9b9f68e59827"
      },
      "source": [
        "dataset = pd.read_csv('https://raw.githubusercontent.com/AdiPersonalWorks/Random/master/student_scores%20-%20student_scores.csv')\n",
        "df = pd.DataFrame(dataset)\n",
        "df.head()"
      ],
      "execution_count": 2,
      "outputs": [
        {
          "output_type": "execute_result",
          "data": {
            "text/html": [
              "<div>\n",
              "<style scoped>\n",
              "    .dataframe tbody tr th:only-of-type {\n",
              "        vertical-align: middle;\n",
              "    }\n",
              "\n",
              "    .dataframe tbody tr th {\n",
              "        vertical-align: top;\n",
              "    }\n",
              "\n",
              "    .dataframe thead th {\n",
              "        text-align: right;\n",
              "    }\n",
              "</style>\n",
              "<table border=\"1\" class=\"dataframe\">\n",
              "  <thead>\n",
              "    <tr style=\"text-align: right;\">\n",
              "      <th></th>\n",
              "      <th>Hours</th>\n",
              "      <th>Scores</th>\n",
              "    </tr>\n",
              "  </thead>\n",
              "  <tbody>\n",
              "    <tr>\n",
              "      <th>0</th>\n",
              "      <td>2.5</td>\n",
              "      <td>21</td>\n",
              "    </tr>\n",
              "    <tr>\n",
              "      <th>1</th>\n",
              "      <td>5.1</td>\n",
              "      <td>47</td>\n",
              "    </tr>\n",
              "    <tr>\n",
              "      <th>2</th>\n",
              "      <td>3.2</td>\n",
              "      <td>27</td>\n",
              "    </tr>\n",
              "    <tr>\n",
              "      <th>3</th>\n",
              "      <td>8.5</td>\n",
              "      <td>75</td>\n",
              "    </tr>\n",
              "    <tr>\n",
              "      <th>4</th>\n",
              "      <td>3.5</td>\n",
              "      <td>30</td>\n",
              "    </tr>\n",
              "  </tbody>\n",
              "</table>\n",
              "</div>"
            ],
            "text/plain": [
              "   Hours  Scores\n",
              "0    2.5      21\n",
              "1    5.1      47\n",
              "2    3.2      27\n",
              "3    8.5      75\n",
              "4    3.5      30"
            ]
          },
          "metadata": {
            "tags": []
          },
          "execution_count": 2
        }
      ]
    },
    {
      "cell_type": "code",
      "metadata": {
        "colab": {
          "base_uri": "https://localhost:8080/",
          "height": 388
        },
        "id": "FWoNYH2FWMl-",
        "outputId": "99979c16-5859-488d-a9fc-3af6424101f9"
      },
      "source": [
        "plt.figure(figsize=(10, 6))\n",
        "plt.scatter(df['Hours'], df['Scores'], color='green', marker='x')\n",
        "plt.xlabel('Hours Studied')\n",
        "plt.ylabel('Score/Percentage')\n",
        "plt.grid(True)"
      ],
      "execution_count": 3,
      "outputs": [
        {
          "output_type": "display_data",
          "data": {
            "image/png": "[encoded data removed]",
            "text/plain": [
              "<Figure size 720x432 with 1 Axes>"
            ]
          },
          "metadata": {
            "tags": [],
            "needs_background": "light"
          }
        }
      ]
    },
    {
      "cell_type": "code",
      "metadata": {
        "colab": {
          "base_uri": "https://localhost:8080/"
        },
        "id": "z48iTAf3XI6v",
        "outputId": "3fc80a75-d421-4cfa-f908-992028c1537c"
      },
      "source": [
        "X = df['Hours']\n",
        "Y = df['Scores']\n",
        "print(X.shape, Y.shape)"
      ],
      "execution_count": 4,
      "outputs": [
        {
          "output_type": "stream",
          "text": [
            "(25,) (25,)\n"
          ],
          "name": "stdout"
        }
      ]
    },
    {
      "cell_type": "code",
      "metadata": {
        "id": "l5IcsQH5bYic"
      },
      "source": [
        "from sklearn.model_selection import train_test_split\n",
        "X_train, X_test, Y_train, Y_test = train_test_split(X, Y, test_size=0.2, random_state=24)\n",
        "X_train = np.array(X_train, dtype='float32')\n",
        "X_train = X_train.reshape(-1, 1)\n",
        "X_test = np.array(X_test, dtype='float32')\n",
        "X_test = X_test.reshape(-1, 1)"
      ],
      "execution_count": 5,
      "outputs": []
    },
    {
      "cell_type": "code",
      "metadata": {
        "colab": {
          "base_uri": "https://localhost:8080/",
          "height": 388
        },
        "id": "2IhIv9HZjHun",
        "outputId": "63d882fb-f2ee-4304-add7-51b56ba6390e"
      },
      "source": [
        "plt.figure(figsize=(10, 6))\n",
        "plt.scatter(X_train, Y_train, color='green', marker='x')\n",
        "plt.scatter(X_test, Y_test, color='red', marker='v')\n",
        "plt.xlabel('Hours Studied')\n",
        "plt.ylabel('Score/Percentage')\n",
        "plt.grid(True)"
      ],
      "execution_count": 6,
      "outputs": [
        {
          "output_type": "display_data",
          "data": {
            "image/png": "[encoded data removed]",
            "text/plain": [
              "<Figure size 720x432 with 1 Axes>"
            ]
          },
          "metadata": {
            "tags": [],
            "needs_background": "light"
          }
        }
      ]
    },
    {
      "cell_type": "code",
      "metadata": {
        "colab": {
          "base_uri": "https://localhost:8080/"
        },
        "id": "Ad6fKiMOa4zz",
        "outputId": "8815ee4d-089b-45dc-fa92-8544ca25f03c"
      },
      "source": [
        "from sklearn.linear_model import LinearRegression\n",
        "model = LinearRegression()\n",
        "model.fit(X_train, Y_train)\n",
        "model.score(X_train, Y_train)"
      ],
      "execution_count": 7,
      "outputs": [
        {
          "output_type": "execute_result",
          "data": {
            "text/plain": [
              "0.9437066867410017"
            ]
          },
          "metadata": {
            "tags": []
          },
          "execution_count": 7
        }
      ]
    },
    {
      "cell_type": "code",
      "metadata": {
        "colab": {
          "base_uri": "https://localhost:8080/"
        },
        "id": "Crno1U9OhvCV",
        "outputId": "fe0e1192-8e63-4b16-ac2f-b4292c2e52c0"
      },
      "source": [
        "print(model.coef_, model.intercept_)"
      ],
      "execution_count": 8,
      "outputs": [
        {
          "output_type": "stream",
          "text": [
            "[9.958191] 1.8707542\n"
          ],
          "name": "stdout"
        }
      ]
    },
    {
      "cell_type": "code",
      "metadata": {
        "colab": {
          "base_uri": "https://localhost:8080/",
          "height": 388
        },
        "id": "e-Mopr6QiJI4",
        "outputId": "4fe85345-ffe5-423b-a141-a3d9886b7398"
      },
      "source": [
        "line = X_train * model.coef_[0] + model.intercept_\n",
        "plt.figure(figsize=(10, 6))\n",
        "plt.scatter(X_train, Y_train, color='green', marker='x')\n",
        "plt.plot(X_train, line, color='blue')\n",
        "plt.scatter(X_train, line, color='blue', marker='o')\n",
        "plt.scatter(X_test, Y_test, color='red', marker='v')\n",
        "plt.xlabel('Hours Studied')\n",
        "plt.ylabel('Score/Percentage')\n",
        "plt.grid(True)"
      ],
      "execution_count": 9,
      "outputs": [
        {
          "output_type": "display_data",
          "data": {
            "image/png": "[encoded data removed]",
            "text/plain": [
              "<Figure size 720x432 with 1 Axes>"
            ]
          },
          "metadata": {
            "tags": [],
            "needs_background": "light"
          }
        }
      ]
    },
    {
      "cell_type": "code",
      "metadata": {
        "colab": {
          "base_uri": "https://localhost:8080/"
        },
        "id": "HW4W-nUPbxq1",
        "outputId": "2eb3adb9-4b78-46ba-d612-d288dbb48f29"
      },
      "source": [
        "Y_pred = model.predict(X_test)\n",
        "Y_pred"
      ],
      "execution_count": 10,
      "outputs": [
        {
          "output_type": "execute_result",
          "data": {
            "text/plain": [
              "array([26.766232, 93.486115, 39.71188 , 16.80804 , 28.75787 ],\n",
              "      dtype=float32)"
            ]
          },
          "metadata": {
            "tags": []
          },
          "execution_count": 10
        }
      ]
    },
    {
      "cell_type": "code",
      "metadata": {
        "colab": {
          "base_uri": "https://localhost:8080/",
          "height": 204
        },
        "id": "U2-ykphHe7Vb",
        "outputId": "f83c4c2d-a059-4d43-e678-6ea8bfa6c7ed"
      },
      "source": [
        "results = pd.DataFrame({\"Y_test\": Y_test, \"Y_pred\": Y_pred})\n",
        "results.head()"
      ],
      "execution_count": 11,
      "outputs": [
        {
          "output_type": "execute_result",
          "data": {
            "text/html": [
              "<div>\n",
              "<style scoped>\n",
              "    .dataframe tbody tr th:only-of-type {\n",
              "        vertical-align: middle;\n",
              "    }\n",
              "\n",
              "    .dataframe tbody tr th {\n",
              "        vertical-align: top;\n",
              "    }\n",
              "\n",
              "    .dataframe thead th {\n",
              "        text-align: right;\n",
              "    }\n",
              "</style>\n",
              "<table border=\"1\" class=\"dataframe\">\n",
              "  <thead>\n",
              "    <tr style=\"text-align: right;\">\n",
              "      <th></th>\n",
              "      <th>Y_test</th>\n",
              "      <th>Y_pred</th>\n",
              "    </tr>\n",
              "  </thead>\n",
              "  <tbody>\n",
              "    <tr>\n",
              "      <th>16</th>\n",
              "      <td>30</td>\n",
              "      <td>26.766232</td>\n",
              "    </tr>\n",
              "    <tr>\n",
              "      <th>6</th>\n",
              "      <td>88</td>\n",
              "      <td>93.486115</td>\n",
              "    </tr>\n",
              "    <tr>\n",
              "      <th>22</th>\n",
              "      <td>35</td>\n",
              "      <td>39.711880</td>\n",
              "    </tr>\n",
              "    <tr>\n",
              "      <th>5</th>\n",
              "      <td>20</td>\n",
              "      <td>16.808041</td>\n",
              "    </tr>\n",
              "    <tr>\n",
              "      <th>9</th>\n",
              "      <td>25</td>\n",
              "      <td>28.757870</td>\n",
              "    </tr>\n",
              "  </tbody>\n",
              "</table>\n",
              "</div>"
            ],
            "text/plain": [
              "    Y_test     Y_pred\n",
              "16      30  26.766232\n",
              "6       88  93.486115\n",
              "22      35  39.711880\n",
              "5       20  16.808041\n",
              "9       25  28.757870"
            ]
          },
          "metadata": {
            "tags": []
          },
          "execution_count": 11
        }
      ]
    },
    {
      "cell_type": "code",
      "metadata": {
        "colab": {
          "base_uri": "https://localhost:8080/",
          "height": 388
        },
        "id": "ps9yF664d1zC",
        "outputId": "daa786ff-5cb2-4bee-90d5-3a19109aa922"
      },
      "source": [
        "plt.figure(figsize=(10, 6))\n",
        "plt.scatter(X_train, Y_train, color='green', marker='+')\n",
        "plt.scatter(X_test, Y_test, color='red', marker='v')\n",
        "plt.plot(X_test, Y_pred, color='blue')\n",
        "plt.scatter(X_test, Y_pred, color='blue', marker='o')\n",
        "plt.xlabel('Hours Studied')\n",
        "plt.ylabel('Score/Percentage')\n",
        "plt.grid(True)"
      ],
      "execution_count": 12,
      "outputs": [
        {
          "output_type": "display_data",
          "data": {
            "image/png": "[encoded data removed]",
            "text/plain": [
              "<Figure size 720x432 with 1 Axes>"
            ]
          },
          "metadata": {
            "tags": [],
            "needs_background": "light"
          }
        }
      ]
    },
    {
      "cell_type": "code",
      "metadata": {
        "colab": {
          "base_uri": "https://localhost:8080/"
        },
        "id": "yMIuq0BChAmf",
        "outputId": "6a23a101-1d09-483b-cca0-cb848f75f124"
      },
      "source": [
        "from sklearn.metrics import mean_absolute_error\n",
        "mean_absolute_error(Y_test, Y_pred)"
      ],
      "execution_count": 13,
      "outputs": [
        {
          "output_type": "execute_result",
          "data": {
            "text/plain": [
              "4.076318359375"
            ]
          },
          "metadata": {
            "tags": []
          },
          "execution_count": 13
        }
      ]
    },
    {
      "cell_type": "code",
      "metadata": {
        "colab": {
          "base_uri": "https://localhost:8080/"
        },
        "id": "Ma75jsoyxcLk",
        "outputId": "84b1aa5f-9706-4723-f923-6683893eb735"
      },
      "source": [
        "data = np.array([9.25], dtype='float32')\n",
        "data = data.reshape(-1, 1)\n",
        "model.predict(data)"
      ],
      "execution_count": 14,
      "outputs": [
        {
          "output_type": "execute_result",
          "data": {
            "text/plain": [
              "array([93.984024], dtype=float32)"
            ]
          },
          "metadata": {
            "tags": []
          },
          "execution_count": 14
        }
      ]
    },
    {
      "cell_type": "code",
      "metadata": {
        "colab": {
          "base_uri": "https://localhost:8080/",
          "height": 388
        },
        "id": "1_M7W4PnxwVX",
        "outputId": "eb959d98-6514-4140-d834-07f6ae5ccc97"
      },
      "source": [
        "plt.figure(figsize=(10, 6))\n",
        "plt.scatter(X_train, Y_train, color='green', marker='+')\n",
        "plt.scatter(X_test, Y_test, color='red', marker='v')\n",
        "plt.plot(X_test, Y_pred, color='blue')\n",
        "plt.scatter(X_test, Y_pred, color='blue', marker='o')\n",
        "plt.scatter(data, model.predict(data), color='deeppink', marker='s')\n",
        "plt.xlabel('Hours Studied')\n",
        "plt.ylabel('Score/Percentage')\n",
        "plt.grid(True)"
      ],
      "execution_count": 15,
      "outputs": [
        {
          "output_type": "display_data",
          "data": {
            "image/png": "[encoded data removed]",
            "text/plain": [
              "<Figure size 720x432 with 1 Axes>"
            ]
          },
          "metadata": {
            "tags": [],
            "needs_background": "light"
          }
        }
      ]
    }
  ]
}